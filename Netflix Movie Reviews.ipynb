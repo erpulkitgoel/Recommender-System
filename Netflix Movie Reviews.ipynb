{
 "cells": [
  {
   "cell_type": "markdown",
   "metadata": {},
   "source": [
    "# 1  Objectives:\n",
    "\n",
    "Predict the rating that a user would give to a movie that he has not yet rated.\n",
    "Minimize the difference between predicted and actual rating (RMSE and MAPE).\n"
   ]
  },
  {
   "cell_type": "code",
   "execution_count": 1,
   "metadata": {},
   "outputs": [],
   "source": [
    "from datetime import datetime\n",
    "import pandas as pd\n",
    "import numpy as np\n",
    "import seaborn as sns\n",
    "sns.set_style(\"whitegrid\")\n",
    "import os\n",
    "import random\n",
    "import matplotlib\n",
    "import matplotlib.pyplot as plt\n",
    "from scipy import sparse\n",
    "from sklearn.metrics.pairwise import cosine_similarity\n",
    "from sklearn.metrics import mean_squared_error\n",
    "\n",
    "import xgboost as xgb\n",
    "from surprise import Reader,Dataset\n",
    "from surprise import BaselineOnly\n",
    "from surprise import KNNBaseline\n",
    "from surprise import SVD\n",
    "from surprise import SVDpp\n",
    "from surprise.model_selection import  GridSearchCV\n",
    "\n",
    "import pandas as  pd\n",
    "import os\n",
    "\n",
    "from scipy import sparse\n",
    "from scipy.sparse import csr_matrix"
   ]
  },
  {
   "cell_type": "markdown",
   "metadata": {},
   "source": [
    "# 2 Reading and Storing Data"
   ]
  },
  {
   "cell_type": "code",
   "execution_count": 2,
   "metadata": {},
   "outputs": [
    {
     "name": "stdout",
     "output_type": "stream",
     "text": [
      "2019-11-08 17:36:01.050458\n"
     ]
    }
   ],
   "source": [
    "if not os.path.isfile(\"./Data/NetflixRatings.csv\"):\n",
    "    startTime = datetime.now()\n",
    "    data = open(\"./Data/NetflixRatings.csv\", mode='w')\n",
    "    files = ['./Data/combined_data_2.txt', './Data/combined_data_4.txt'] \n",
    "# This Line will create a file NetflxRatings.csv in write mode and add the above to files into this CSV file\n",
    "\n",
    "    for file in files:\n",
    "        print(\"Reading  from file : \"+str(file)+ \"......\")\n",
    "        with open(file) as f:\n",
    "            for line in f:\n",
    "                line = line.strip()  #Line.strip() function will clear all the spaces from the trailing and leading positions of the string\n",
    "                if line.endswith(\":\"):\n",
    "                    movieId = line.replace(\":\",\"\")\n",
    "                    \n",
    "                else:\n",
    "                    row = []\n",
    "                    row = [x for x in line.split(\",\")]\n",
    "                    row.insert(0,movieId)\n",
    "                    data.write(\",\".join(row))\n",
    "                    data.write(\"\\n\")\n",
    "        print(\"reading of file:\" +str(file)+ \"is completed\")\n",
    "    data.close()\n",
    "    print(\"Total time taken for execution of this code\" +str(datetime.now() - startTime))\n",
    "        \n",
    "                    \n",
    "print(datetime.now())\n",
    "                    \n",
    "                    \n",
    "                    "
   ]
  },
  {
   "cell_type": "code",
   "execution_count": null,
   "metadata": {},
   "outputs": [
    {
     "name": "stdout",
     "output_type": "stream",
     "text": [
      "Creating the dataframe from the data.csvfile....\n"
     ]
    }
   ],
   "source": [
    "start = datetime.now()\n",
    "\n",
    "print(\"Creating the dataframe from the data.csvfile....\")\n",
    "df = pd.read_csv('./Data/NetflixRatings.csv', sep=',' , names= ['movie','user', 'rating', 'date'])\n",
    "df.date = pd.to_datetime(df.date)\n",
    "print('Done.\\n')\n",
    "\n",
    "# We are arranging the ratings as per date and time\n",
    "print('Sorting the  dataframe by date')\n",
    "df.sort_values(by='date', inplace= True)\n",
    "print('Done...')\n",
    "\n",
    "\n",
    "print(datetime.now())\n",
    "\n",
    "print(datetime.now() -start)\n",
    "\n"
   ]
  },
  {
   "cell_type": "code",
   "execution_count": null,
   "metadata": {},
   "outputs": [],
   "source": [
    "df.head()"
   ]
  },
  {
   "cell_type": "code",
   "execution_count": null,
   "metadata": {},
   "outputs": [],
   "source": [
    "df.describe()['rating']"
   ]
  },
  {
   "cell_type": "code",
   "execution_count": null,
   "metadata": {},
   "outputs": [],
   "source": [
    "# Checking for NAN values and deleting the rows containing them\n",
    "print('No of NAN Values in our datframe:', sum(df.isnull().any()))"
   ]
  },
  {
   "cell_type": "markdown",
   "metadata": {},
   "source": [
    "# Removing the Duplicates\n"
   ]
  },
  {
   "cell_type": "code",
   "execution_count": null,
   "metadata": {},
   "outputs": [],
   "source": [
    "dup_bool = df.duplicated(['movie','user', 'rating'])\n",
    "dups = sum(dup_bool) # considering all columns including  timestamp\n",
    "print('There are {} duplicate items in the dataframe'.format(dups))\n"
   ]
  },
  {
   "cell_type": "markdown",
   "metadata": {},
   "source": [
    "#  Basic Statistics(#Ratings, #Users, and #Movies)"
   ]
  },
  {
   "cell_type": "code",
   "execution_count": null,
   "metadata": {},
   "outputs": [],
   "source": [
    "print(\"Total Data\")\n",
    "print(\"-\"*50)\n",
    "print(\"\\n Total number of ratings:\",df.shape[0])\n",
    "print(\"total number of users : \", len(np.unique(df.user)))\n",
    "print(\"total number of movies : \", len(np.unique(df.movie)))\n"
   ]
  },
  {
   "cell_type": "markdown",
   "metadata": {},
   "source": [
    "# 3 Splitting Data into Train and Test (Ratio 80:20)\n"
   ]
  },
  {
   "cell_type": "code",
   "execution_count": 4,
   "metadata": {},
   "outputs": [
    {
     "name": "stdout",
     "output_type": "stream",
     "text": [
      "2019-06-28 16:02:37.463242\n"
     ]
    }
   ],
   "source": [
    "# Splitting the Train and test and storing the data into train and test CSVs\n",
    "if not os.path.isfile(\"./Data/train.csv\"):\n",
    "    df.iloc[:int(df.shape[0]*0.80)].to_csv(\"./Data/train.csv\", index=False)\n",
    "\n",
    "if  not os.path.isfile(\"./Data/test.csv\"):\n",
    "    df.iloc[int(df.shape[0]*0.80):].to_csv(\"./Data/test.csv\",index=False)\n",
    "    \n",
    "train_df = pd.read_csv(\"./Data/train.csv\", parse_dates = ['date'])\n",
    "test_df = pd.read_csv(\"./Data/test.csv\")\n",
    "\n",
    "print(datetime.now())"
   ]
  },
  {
   "cell_type": "markdown",
   "metadata": {},
   "source": [
    "# Basic Statistics in Train Set\n",
    "\n"
   ]
  },
  {
   "cell_type": "code",
   "execution_count": 5,
   "metadata": {},
   "outputs": [
    {
     "name": "stdout",
     "output_type": "stream",
     "text": [
      "training Data\n",
      "--------------------------------------------------\n",
      "\n",
      "Total number of ratings : 43060091\n",
      "Total number of Users :  401901\n",
      "Total number of movies:  8931\n"
     ]
    }
   ],
   "source": [
    "print(\"training Data\")\n",
    "print(\"-\"*50)\n",
    "print(\"\\nTotal number of ratings :\", train_df.shape[0] )\n",
    "print(\"Total number of Users : \", len(np.unique(train_df.user)))\n",
    "print(\"Total number of movies: \", len(np.unique(train_df.movie)))\n",
    "\n",
    "print(datetime.now())"
   ]
  },
  {
   "cell_type": "markdown",
   "metadata": {},
   "source": [
    "# Basic Statistics in Test Set"
   ]
  },
  {
   "cell_type": "code",
   "execution_count": 11,
   "metadata": {},
   "outputs": [
    {
     "name": "stdout",
     "output_type": "stream",
     "text": [
      "Test Data\n",
      "--------------------------------------------------\n",
      "\n",
      "Total number of ratings : 10765023\n",
      "Total number of Users :  327355\n",
      "Total number of movies:  9107\n",
      "0:00:02.946124\n"
     ]
    }
   ],
   "source": [
    "start = datetime.now()\n",
    "print(\"Test Data\")\n",
    "print(\"-\"*50)\n",
    "print(\"\\nTotal number of ratings :\", test_df.shape[0] )\n",
    "print(\"Total number of Users : \", len(np.unique(test_df.user)))\n",
    "print(\"Total number of movies: \", len(np.unique(test_df.movie)))\n",
    "\n",
    "print(datetime.now() -start)"
   ]
  },
  {
   "cell_type": "markdown",
   "metadata": {},
   "source": [
    "# Exploratory data analysis on Train Data\n"
   ]
  },
  {
   "cell_type": "code",
   "execution_count": 12,
   "metadata": {},
   "outputs": [],
   "source": [
    "# Method to make y axis more readable\n",
    "def human(num,units = 'M'):\n",
    "    units = units.lower()\n",
    "    num = float(num)\n",
    "    if units == 'k':\n",
    "        return str(num/10**3) + \"k\"\n",
    "    elif units == 'm':\n",
    "        return str(num/10**6) + \"m\"\n",
    "    elif units == 'b':\n",
    "        return str(num/10**9) + \"b\"\n",
    "    \n",
    "    "
   ]
  },
  {
   "cell_type": "markdown",
   "metadata": {},
   "source": [
    "# Distribution of Ratings\n"
   ]
  },
  {
   "cell_type": "code",
   "execution_count": 13,
   "metadata": {},
   "outputs": [
    {
     "data": {
      "image/png": "[encoded data removed]",
      "text/plain": [
       "<Figure size 432x288 with 1 Axes>"
      ]
     },
     "metadata": {
      "needs_background": "light"
     },
     "output_type": "display_data"
    }
   ],
   "source": [
    "fig, ax = plt.subplots()\n",
    "plt.title('Distribution of Ratings over Training Set', fontsize=15)\n",
    "sns.countplot(train_df.rating)\n",
    "ax.set_yticklabels([human(item,'M') for item in ax.get_yticks()])\n",
    "ax.set_ylabel('No of Ratings ( in Millions)')\n",
    "plt.show()\n"
   ]
  },
  {
   "cell_type": "markdown",
   "metadata": {},
   "source": [
    "# Distribution of ratings on Test Set"
   ]
  },
  {
   "cell_type": "code",
   "execution_count": 14,
   "metadata": {},
   "outputs": [
    {
     "data": {
      "image/png": "[encoded data removed]",
      "text/plain": [
       "<Figure size 432x288 with 1 Axes>"
      ]
     },
     "metadata": {
      "needs_background": "light"
     },
     "output_type": "display_data"
    }
   ],
   "source": [
    "fig, ax = plt.subplots()\n",
    "plt.title('Distribution of Ratings over Test Set', fontsize=15)\n",
    "sns.countplot(test_df.rating)\n",
    "ax.set_yticklabels([human(item,'M') for item in ax.get_yticks()])\n",
    "ax.set_ylabel('No of Ratings ( in Millions)')\n",
    "plt.show()"
   ]
  },
  {
   "cell_type": "markdown",
   "metadata": {},
   "source": [
    "# 4 Add new Column (Week Day) to the Data set for analysis"
   ]
  },
  {
   "cell_type": "code",
   "execution_count": 5,
   "metadata": {},
   "outputs": [
    {
     "name": "stdout",
     "output_type": "stream",
     "text": [
      "done...\n"
     ]
    }
   ],
   "source": [
    "# it is used to skip the warning message \" Settingwithcopywriting\"\n",
    "pd.options.mode.chained_assignment = None # default = 'warn'\n",
    "train_df['day of Week'] = train_df.date.dt.weekday_name\n",
    "train_df.tail()\n",
    "print(\"done...\")"
   ]
  },
  {
   "cell_type": "markdown",
   "metadata": {},
   "source": [
    "# Number of Ratings per month"
   ]
  },
  {
   "cell_type": "code",
   "execution_count": 16,
   "metadata": {},
   "outputs": [
    {
     "data": {
      "image/png": "[encoded data removed]",
      "text/plain": [
       "<Figure size 432x288 with 1 Axes>"
      ]
     },
     "metadata": {
      "needs_background": "light"
     },
     "output_type": "display_data"
    }
   ],
   "source": [
    "ax = train_df.resample('m', on='date')['rating'].count().plot()\n",
    "ax.set_title('Number of Ratings per month(Training Set only)')\n",
    "plt.xlabel('Month')\n",
    "plt.ylabel('No of Ratings(per month)')\n",
    "ax.set_yticklabels([human(item,'M') for item in ax.get_yticks()])\n",
    "plt.show()\n"
   ]
  },
  {
   "cell_type": "markdown",
   "metadata": {},
   "source": [
    "# Analysis on the Ratings given by users\n"
   ]
  },
  {
   "cell_type": "code",
   "execution_count": 17,
   "metadata": {},
   "outputs": [
    {
     "data": {
      "text/plain": [
       "user\n",
       "305344     8779\n",
       "2439493    8126\n",
       "387418     7884\n",
       "1639792    4983\n",
       "1461435    4846\n",
       "Name: rating, dtype: int64"
      ]
     },
     "execution_count": 17,
     "metadata": {},
     "output_type": "execute_result"
    }
   ],
   "source": [
    "no_of_rated_movies_per_user = train_df.groupby(by='user')['rating'].count().sort_values(ascending=False)\n",
    "no_of_rated_movies_per_user.head()\n"
   ]
  },
  {
   "cell_type": "code",
   "execution_count": 18,
   "metadata": {},
   "outputs": [
    {
     "data": {
      "text/plain": [
       "user\n",
       "1406680    1\n",
       "1227925    1\n",
       "1228032    1\n",
       "2191231    1\n",
       "1545908    1\n",
       "Name: rating, dtype: int64"
      ]
     },
     "execution_count": 18,
     "metadata": {},
     "output_type": "execute_result"
    }
   ],
   "source": [
    "no_of_rated_movies_per_user.tail()"
   ]
  },
  {
   "cell_type": "code",
   "execution_count": 19,
   "metadata": {},
   "outputs": [
    {
     "data": {
      "image/png": "[encoded data removed]",
      "text/plain": [
       "<Figure size 576x288 with 2 Axes>"
      ]
     },
     "metadata": {
      "needs_background": "light"
     },
     "output_type": "display_data"
    }
   ],
   "source": [
    "fig = plt.figure(figsize=plt.figaspect(0.5))\n",
    "\n",
    "ax1 = plt.subplot(121)\n",
    "sns.kdeplot(no_of_rated_movies_per_user, shade=True, ax=ax1)\n",
    "plt.xlabel(\"No of ratings per user\")\n",
    "plt.title(\"PDF\")\n",
    "\n",
    "ax2 = plt.subplot(122)\n",
    "sns.kdeplot(no_of_rated_movies_per_user,shade=True, cumulative=True, ax = ax2)\n",
    "plt.xlabel(\"No of ratings per user\")\n",
    "plt.title(\"Cumulative distribution\")\n",
    "\n",
    "\n",
    "plt.show()\n"
   ]
  },
  {
   "cell_type": "code",
   "execution_count": 20,
   "metadata": {},
   "outputs": [
    {
     "data": {
      "text/plain": [
       "count    401901.00000\n",
       "mean        107.14104\n",
       "std         155.05350\n",
       "min           1.00000\n",
       "25%          19.00000\n",
       "50%          48.00000\n",
       "75%         133.00000\n",
       "max        8779.00000\n",
       "Name: rating, dtype: float64"
      ]
     },
     "execution_count": 20,
     "metadata": {},
     "output_type": "execute_result"
    }
   ],
   "source": [
    "no_of_rated_movies_per_user.describe()"
   ]
  },
  {
   "cell_type": "markdown",
   "metadata": {},
   "source": [
    "# Quantiles"
   ]
  },
  {
   "cell_type": "code",
   "execution_count": 21,
   "metadata": {},
   "outputs": [],
   "source": [
    "quantiles = no_of_rated_movies_per_user.quantile(np.arange(0,1.01,0.01), interpolation='higher')\n"
   ]
  },
  {
   "cell_type": "code",
   "execution_count": 27,
   "metadata": {},
   "outputs": [
    {
     "data": {
      "image/png": "[encoded data removed]",
      "text/plain": [
       "<Figure size 432x288 with 1 Axes>"
      ]
     },
     "metadata": {
      "needs_background": "light"
     },
     "output_type": "display_data"
    }
   ],
   "source": [
    "plt.title(\"Qantiles and Their Values\")\n",
    "quantiles.plot()\n",
    "# Quantiles with 0.05 difference\n",
    "plt.scatter(x=quantiles.index[::5], y=quantiles.values[::5], c= 'orange', label=\"quantiles with 0.05 interval\")\n",
    "# quantiles with 0.5 difference\n",
    "plt.scatter(x=quantiles.index[::25], y=quantiles.values[::25], c='m', label=\"quantile with 0.5 interval\")\n",
    "plt.ylabel('No of ratings per user')\n",
    "plt.xlabel('Values at the quantiles')\n",
    "plt.legend(loc='best')\n",
    "\n",
    "\n",
    "# annotations at 25th, 50th, 75th, 100th Percentile values\n",
    "for x,y in zip(quantiles.index[::25],quantiles[::25]):\n",
    "    plt.annotate(s=\"({} , {} )\".format(x,y), xy=(x,y), xytext=(x-0.05, y+500) ,fontweight='bold')\n",
    "    \n",
    "plt.show()"
   ]
  },
  {
   "cell_type": "code",
   "execution_count": 28,
   "metadata": {},
   "outputs": [
    {
     "data": {
      "text/plain": [
       "0.00       1\n",
       "0.05       4\n",
       "0.10       8\n",
       "0.15      12\n",
       "0.20      15\n",
       "0.25      19\n",
       "0.30      23\n",
       "0.35      27\n",
       "0.40      33\n",
       "0.45      40\n",
       "0.50      48\n",
       "0.55      59\n",
       "0.60      72\n",
       "0.65      88\n",
       "0.70     108\n",
       "0.75     133\n",
       "0.80     166\n",
       "0.85     213\n",
       "0.90     281\n",
       "0.95     404\n",
       "1.00    8779\n",
       "Name: rating, dtype: int64"
      ]
     },
     "execution_count": 28,
     "metadata": {},
     "output_type": "execute_result"
    }
   ],
   "source": [
    "quantiles[::5]"
   ]
  },
  {
   "cell_type": "markdown",
   "metadata": {},
   "source": [
    "# How many ratings at the last 5% of all ratings?\n"
   ]
  },
  {
   "cell_type": "code",
   "execution_count": 29,
   "metadata": {},
   "outputs": [
    {
     "name": "stdout",
     "output_type": "stream",
     "text": [
      "\n",
      " No of ratings at the last 5 percentile: 20181 \n",
      "\n"
     ]
    }
   ],
   "source": [
    "print('\\n No of ratings at the last 5 percentile: {} \\n'.format(sum(no_of_rated_movies_per_user>=404)))\n"
   ]
  },
  {
   "cell_type": "markdown",
   "metadata": {},
   "source": [
    "# Analysis of ratings of a movie given by a user"
   ]
  },
  {
   "cell_type": "code",
   "execution_count": 30,
   "metadata": {},
   "outputs": [
    {
     "data": {
      "image/png": "[encoded data removed]",
      "text/plain": [
       "<Figure size 576x288 with 1 Axes>"
      ]
     },
     "metadata": {
      "needs_background": "light"
     },
     "output_type": "display_data"
    }
   ],
   "source": [
    "no_of_ratings_per_movie = train_df.groupby(by='movie')['rating'].count().sort_values(ascending=False)\n",
    "\n",
    "fig= plt.figure(figsize=plt.figaspect(.5))\n",
    "ax = plt.gca()\n",
    "\n",
    "plt.plot(no_of_ratings_per_movie.values)\n",
    "plt.title('#RATINGS per movie')\n",
    "plt.xlabel('Movie')\n",
    "plt.ylabel('No of Users who rated a movie')\n",
    "ax.set_xticklabels([])\n",
    "\n",
    "plt.show()"
   ]
  },
  {
   "cell_type": "markdown",
   "metadata": {},
   "source": [
    "No of Ratings for each day of the week"
   ]
  },
  {
   "cell_type": "code",
   "execution_count": null,
   "metadata": {},
   "outputs": [],
   "source": [
    "fig, ax = plt.subplots()\n",
    "sns.catplot(x='day of Week',kind='count', data=train_df, ax=ax)\n",
    "plt.title(\" no of ratings on each day...\")\n",
    "plt.ylabel('total no of ratings')\n",
    "plt.xlabel('')\n",
    "ax.set_yticklabels([human(item,'M') for item in ax.get_yticks()])\n",
    "plt.show()"
   ]
  },
  {
   "cell_type": "code",
   "execution_count": null,
   "metadata": {},
   "outputs": [],
   "source": [
    "start = datetime.now()\n",
    "fig = plt.figure(figsize=plt.figaspect(.45))\n",
    "sns.boxplot(y='rating', x='day of Week', data=train_df)\n",
    "plt.show()\n",
    "print(datetime.now() -start)\n"
   ]
  },
  {
   "cell_type": "code",
   "execution_count": 7,
   "metadata": {},
   "outputs": [
    {
     "name": "stdout",
     "output_type": "stream",
     "text": [
      "average ratings:\n",
      "--------------------------------------------------\n",
      "day of Week\n",
      "Friday       3.589555\n",
      "Monday       3.577235\n",
      "Saturday     3.595120\n",
      "Sunday       3.596637\n",
      "Thursday     3.583570\n",
      "Tuesday      3.574852\n",
      "Wednesday    3.585002\n",
      "Name: rating, dtype: float64\n",
      "\n",
      "\n"
     ]
    }
   ],
   "source": [
    "avg_week_df = train_df.groupby(by=['day of Week'])['rating'].mean()\n",
    "print('average ratings:')\n",
    "print('-'*50)\n",
    "print(avg_week_df)\n",
    "print('\\n')\n"
   ]
  },
  {
   "cell_type": "markdown",
   "metadata": {},
   "source": [
    "# 5 Creating Sparse Matrix from the Data frame\n"
   ]
  },
  {
   "cell_type": "code",
   "execution_count": 6,
   "metadata": {},
   "outputs": [
    {
     "name": "stdout",
     "output_type": "stream",
     "text": [
      "it is present in your present working directory\n",
      "Done...\n",
      "0:00:03.684058\n"
     ]
    }
   ],
   "source": [
    "start = datetime.now()\n",
    "if os.path.isfile(\"train_sparse_matrix.npz\"):\n",
    "    print(\"it is present in your present working directory\")\n",
    "    train_sparse_matrix = sparse.load_npz('train_sparse_matrix.npz')\n",
    "    print(\"Done...\")\n",
    "else:\n",
    "    print(\" we are creating sparse matrix from the train data frame\")\n",
    "    train_sparse_matrix = sparse.csr_matrix((train_df.rating.values, (train_df.user.values, train_df.movie.values)),)\n",
    "    print(\"Done It\\'s shape is : (user,movie): \", train_sparse_matrix.shape)\n",
    "    print(\"saving it to disk for further usage..\")\n",
    "    \n",
    "    sparse.save_npz(\"train_sparse_matrix.npz\",train_sparse_matrix)\n",
    "    print(\"Save Done...\\n\")\n",
    "\n",
    "print(datetime.now() -start)\n"
   ]
  },
  {
   "cell_type": "code",
   "execution_count": 16,
   "metadata": {},
   "outputs": [
    {
     "name": "stdout",
     "output_type": "stream",
     "text": [
      "indices\n",
      "[ 4506  4577  4590 ... 17622 17627 17692]\n",
      "indptr\n",
      "[       0        0        0 ... 43059959 43059959 43060091]\n",
      "format\n",
      "b'csr'\n",
      "shape\n",
      "[2649430   17771]\n",
      "data\n",
      "[3 3 3 ... 4 3 2]\n"
     ]
    }
   ],
   "source": [
    "from numpy import load\n",
    "\n",
    "data = load('train_sparse_matrix.npz')\n",
    "lst = data.files\n",
    "\n",
    "for item in lst:\n",
    "    print(item)\n",
    "    print(data[item])"
   ]
  },
  {
   "cell_type": "markdown",
   "metadata": {},
   "source": [
    "# Sparsity of the Train Matrix"
   ]
  },
  {
   "cell_type": "code",
   "execution_count": 17,
   "metadata": {},
   "outputs": [
    {
     "name": "stdout",
     "output_type": "stream",
     "text": [
      "sparsity of the train matrix : 99.90854433187319 %\n"
     ]
    }
   ],
   "source": [
    "us,mv =  train_sparse_matrix.shape\n",
    "elem = train_sparse_matrix.count_nonzero()\n",
    "\n",
    "print(\"sparsity of the train matrix : {} %\".format(   (1 -(elem/(us*mv)) ) *100  ))"
   ]
  },
  {
   "cell_type": "markdown",
   "metadata": {},
   "source": [
    "# 6 Creating Sparx matrix from test Data frame"
   ]
  },
  {
   "cell_type": "code",
   "execution_count": 7,
   "metadata": {},
   "outputs": [
    {
     "name": "stdout",
     "output_type": "stream",
     "text": [
      "It is present in your present working directory, getting it from the disk\n",
      "Done....\n",
      "\n",
      "0:00:00.765139\n"
     ]
    }
   ],
   "source": [
    "start = datetime.now()\n",
    "if os.path.isfile('test_sparse_matrix.npz'):\n",
    "    print(\"It is present in your present working directory, getting it from the disk\")\n",
    "    test_sparse_matrix = sparse.load_npz('test_sparse_matrix.npz')\n",
    "    \n",
    "    print(\"Done....\\n\")\n",
    "    \n",
    "    \n",
    "else:\n",
    "    print(\"we are creating a test Sprse metrix now from the dataframe..\")\n",
    "    test_sparse_matrix = sparse.csr_matrix((test_df.rating.values,(test_df.user.values,test_df.movie.values)))\n",
    "    print(\"Done...\\n\")\n",
    "    print(\"It\\'s shape is : (User,movie): \", test_sparse_matrix.shape)\n",
    "    print(\"Saving it into the disk for further usage\")\n",
    "    sparse.save_npz(\"test_sparse_matrix.npz\", test_sparse_matrix)\n",
    "    print(\"Done...\")\n",
    "\n",
    "print(datetime.now() - start)\n"
   ]
  },
  {
   "cell_type": "code",
   "execution_count": 19,
   "metadata": {},
   "outputs": [
    {
     "name": "stdout",
     "output_type": "stream",
     "text": [
      "indices\n",
      "[ 4522  4682  4697 ... 14644 15107 15788]\n",
      "indptr\n",
      "[       0        0        0 ... 10765009 10765009 10765023]\n",
      "format\n",
      "b'csr'\n",
      "shape\n",
      "[2649430   17771]\n",
      "data\n",
      "[4 3 4 ... 3 5 5]\n"
     ]
    }
   ],
   "source": [
    "from numpy import load\n",
    "\n",
    "data = load('test_sparse_matrix.npz')\n",
    "lst = data.files\n",
    "\n",
    "for item in lst:\n",
    "    print(item)\n",
    "    print(data[item])"
   ]
  },
  {
   "cell_type": "markdown",
   "metadata": {},
   "source": [
    "#The sparsity of the test data matrix"
   ]
  },
  {
   "cell_type": "code",
   "execution_count": 20,
   "metadata": {},
   "outputs": [
    {
     "name": "stdout",
     "output_type": "stream",
     "text": [
      "sparsity of the train matrix : 99.97713608243731 %\n"
     ]
    }
   ],
   "source": [
    "us,mv =  test_sparse_matrix.shape\n",
    "elem = test_sparse_matrix.count_nonzero()\n",
    "\n",
    "print(\"sparsity of the train matrix : {} %\".format(   (1 -(elem/(us*mv)) ) *100  ))"
   ]
  },
  {
   "cell_type": "markdown",
   "metadata": {},
   "source": [
    "# 7 Finding Global average of all Movie ratings, Average rating per user, Average rating per movie"
   ]
  },
  {
   "cell_type": "code",
   "execution_count": 8,
   "metadata": {},
   "outputs": [],
   "source": [
    "# get the user averages in a dictionary ( Key: userid/movie Id, value: avg rating)\n",
    "\n",
    "def get_average_ratings(sparse_matrix, of_users):\n",
    "    # average ratiing of user per axis\n",
    "    ax = 1 if of_users else 0 # 1 - user axes, 0- Movie Axis\n",
    "    #.A1 is to convert Column Matrix into 1-D numpy array\n",
    "    sum_of_ratings = sparse_matrix.sum(axis=ax).A1\n",
    "    \n",
    "    # Boolean Matrix of ratings(whether a user rated that movie or not)\n",
    "    is_rated = sparse_matrix!=0\n",
    "    \n",
    "    # No of ratings for eac user or movie\n",
    "    no_of_ratings = is_rated.sum(axis=ax).A1\n",
    "    \n",
    "    # max User and max movie Ids is sparse matrix\n",
    "    u,m = sparse_matrix.shape\n",
    "    \n",
    "    average_ratings = {i: sum_of_ratings[i]/no_of_ratings[i]\n",
    "                                  for i in range(u if of_users else m)\n",
    "                                      if no_of_ratings[i] !=0 }\n",
    "    \n",
    "    # return that dictionary of average ratings\n",
    "    return average_ratings\n"
   ]
  },
  {
   "cell_type": "markdown",
   "metadata": {},
   "source": [
    "#Findng Global average of all movie ratings"
   ]
  },
  {
   "cell_type": "code",
   "execution_count": 9,
   "metadata": {},
   "outputs": [
    {
     "data": {
      "text/plain": [
       "{'Global': 3.5844935859517806}"
      ]
     },
     "execution_count": 9,
     "metadata": {},
     "output_type": "execute_result"
    }
   ],
   "source": [
    "train_averages = dict()\n",
    "# get the global average of the ratings in our train set\n",
    "train_global_average = train_sparse_matrix.sum()/train_sparse_matrix.count_nonzero()\n",
    "train_averages['Global'] = train_global_average\n",
    "train_averages"
   ]
  },
  {
   "cell_type": "markdown",
   "metadata": {},
   "source": [
    "#Finding average rating per user"
   ]
  },
  {
   "cell_type": "code",
   "execution_count": 10,
   "metadata": {},
   "outputs": [
    {
     "name": "stdout",
     "output_type": "stream",
     "text": [
      "\n",
      " Average rating of the user 305344: 1.9400842920605992\n"
     ]
    }
   ],
   "source": [
    "train_averages['User'] = get_average_ratings(train_sparse_matrix,of_users=True)\n",
    "print('\\n Average rating of the user 305344:', train_averages['User'][305344])"
   ]
  },
  {
   "cell_type": "raw",
   "metadata": {},
   "source": [
    "#finding average per movie"
   ]
  },
  {
   "cell_type": "code",
   "execution_count": 11,
   "metadata": {},
   "outputs": [
    {
     "name": "stdout",
     "output_type": "stream",
     "text": [
      "Average rating of the movie 4534: 3.5065963060686016\n"
     ]
    }
   ],
   "source": [
    "train_averages['movie'] = get_average_ratings(train_sparse_matrix,of_users=False)\n",
    "print('Average rating of the movie 4534:', train_averages['movie'][4534])"
   ]
  },
  {
   "cell_type": "markdown",
   "metadata": {},
   "source": [
    "# PDF and CDF of Average Ratings of Users and Movies ( In train Data)"
   ]
  },
  {
   "cell_type": "code",
   "execution_count": 12,
   "metadata": {},
   "outputs": [
    {
     "data": {
      "image/png": "[encoded data removed]",
      "text/plain": [
       "<Figure size 576x288 with 2 Axes>"
      ]
     },
     "metadata": {
      "needs_background": "light"
     },
     "output_type": "display_data"
    },
    {
     "name": "stdout",
     "output_type": "stream",
     "text": [
      "0:01:37.012043\n"
     ]
    }
   ],
   "source": [
    "start = datetime.now()\n",
    "# Draw PDFs of average ratings  per users and Movies\n",
    "fig, (ax1,ax2) = plt.subplots(nrows=1,ncols=2, figsize= plt.figaspect(.5))\n",
    "fig.suptitle(\"Avg Rating per user and per movie\", fontsize=15)\n",
    "\n",
    "ax1.set_title('User Avg Ratings')\n",
    "# get the average user ratings from the averages dictionary\n",
    "user_averages = [ rat for rat in train_averages['User'].values()]\n",
    "sns.distplot(user_averages, ax=ax1, hist=False, label='PDF')\n",
    "sns.distplot(user_averages, ax=ax1, hist=False, \n",
    "             kde_kws=dict(cumulative=True),label='CDF')\n",
    "\n",
    "\n",
    "\n",
    "\n",
    "ax2.set_title('Movie Avg Ratings')\n",
    "# get the average user ratings from the averages dictionary\n",
    "movie_averages = [cat for cat in train_averages['movie'].values()]\n",
    "sns.distplot(movie_averages, ax=ax2, hist=False,label='PDF')\n",
    "sns.distplot(movie_averages, ax=ax2, hist=False, kde_kws=dict(cumulative=True),label='CDF')\n",
    "\n",
    "\n",
    "plt.show()\n",
    "print(datetime.now() -start)"
   ]
  },
  {
   "cell_type": "code",
   "execution_count": null,
   "metadata": {},
   "outputs": [],
   "source": []
  },
  {
   "cell_type": "markdown",
   "metadata": {},
   "source": [
    "# Cold Start Problem "
   ]
  },
  {
   "cell_type": "markdown",
   "metadata": {},
   "source": [
    "cold Start Problem with Users"
   ]
  },
  {
   "cell_type": "code",
   "execution_count": 13,
   "metadata": {},
   "outputs": [
    {
     "name": "stdout",
     "output_type": "stream",
     "text": [
      "total number of USer:  478723\n",
      "number of train Users :  401901\n",
      "new User : 76822 (16.05 %) \n"
     ]
    }
   ],
   "source": [
    "total_users = len(np.unique(df.user))\n",
    "users_train = len(train_averages['User'])\n",
    "new_users = total_users - users_train\n",
    "\n",
    "print(\"total number of USer: \", total_users)\n",
    "print(\"number of train Users : \", users_train)\n",
    "print(\"new User : {} ({} %) \".format(new_users, np.round((new_users/total_users)*100,2)) )"
   ]
  },
  {
   "cell_type": "markdown",
   "metadata": {},
   "source": [
    "cold start problem with Movies"
   ]
  },
  {
   "cell_type": "code",
   "execution_count": 14,
   "metadata": {},
   "outputs": [
    {
     "name": "stdout",
     "output_type": "stream",
     "text": [
      "total number of USer:  9114\n",
      "number of train Users :  8931\n",
      "new User : 183 (2.01 %) \n"
     ]
    }
   ],
   "source": [
    "total_movies = len(np.unique(df.movie))\n",
    "movie_train = len(train_averages['movie'])\n",
    "new_movie = total_movies - movie_train\n",
    "\n",
    "print(\"total number of USer: \", total_movies)\n",
    "print(\"number of train Users : \", movie_train)\n",
    "print(\"new User : {} ({} %) \".format(new_movie, np.round((new_movie/total_movies)*100,2)) )"
   ]
  },
  {
   "cell_type": "markdown",
   "metadata": {},
   "source": [
    "# Computing similarity Matrices"
   ]
  },
  {
   "cell_type": "markdown",
   "metadata": {},
   "source": [
    "computing movie-movie similarity matrix"
   ]
  },
  {
   "cell_type": "code",
   "execution_count": 15,
   "metadata": {},
   "outputs": [
    {
     "name": "stdout",
     "output_type": "stream",
     "text": [
      "It seems you dont have that file, computing movie-movie similarity\n",
      "Done...\n",
      "Saving it to the disk withut the need to re-computing it again..\n",
      "done\n",
      "0:01:43.267694\n"
     ]
    }
   ],
   "source": [
    "start = datetime.now()\n",
    "if not os.path.isfile('movie_movie_sim_sparse.npz'):\n",
    "    print(\"It seems you dont have that file, computing movie-movie similarity\")\n",
    "    start = datetime.now()\n",
    "    m_m_Similarity_sparse = cosine_similarity(X= train_sparse_matrix.T, dense_output=False)\n",
    "    print('Done...')\n",
    "    print(\"Saving it to the disk withut the need to re-computing it again..\")\n",
    "    print(\"done\")\n",
    "    \n",
    "else:\n",
    "    print(\"It is there, we will get it\")\n",
    "    m_m_Similarity_sparse = sparse.load_npz(\"m_m_Similarity_sparse.npz\")\n",
    "    print(\"done...\")\n",
    "    \n",
    "    \n",
    "print(datetime.now() -start)\n",
    "\n"
   ]
  },
  {
   "cell_type": "code",
   "execution_count": 17,
   "metadata": {},
   "outputs": [
    {
     "data": {
      "text/plain": [
       "(17771, 17771)"
      ]
     },
     "execution_count": 17,
     "metadata": {},
     "output_type": "execute_result"
    }
   ],
   "source": [
    "m_m_Similarity_sparse.shape\n"
   ]
  },
  {
   "cell_type": "code",
   "execution_count": 23,
   "metadata": {},
   "outputs": [],
   "source": [
    "\n",
    "\n",
    "movie_ids = np.unique(m_m_Similarity_sparse.nonzero()[1])"
   ]
  },
  {
   "cell_type": "code",
   "execution_count": 31,
   "metadata": {},
   "outputs": [
    {
     "name": "stdout",
     "output_type": "stream",
     "text": [
      "0:00:16.888785\n"
     ]
    },
    {
     "ename": "TypeError",
     "evalue": "unhashable type: 'slice'",
     "output_type": "error",
     "traceback": [
      "\u001b[1;31m---------------------------------------------------------------------------\u001b[0m",
      "\u001b[1;31mTypeError\u001b[0m                                 Traceback (most recent call last)",
      "\u001b[1;32m<ipython-input-31-73e306b4ad8a>\u001b[0m in \u001b[0;36m<module>\u001b[1;34m\u001b[0m\n\u001b[0;32m      7\u001b[0m \u001b[0mprint\u001b[0m\u001b[1;33m(\u001b[0m\u001b[0mdatetime\u001b[0m\u001b[1;33m.\u001b[0m\u001b[0mnow\u001b[0m\u001b[1;33m(\u001b[0m\u001b[1;33m)\u001b[0m \u001b[1;33m-\u001b[0m \u001b[0mstart\u001b[0m\u001b[1;33m)\u001b[0m\u001b[1;33m\u001b[0m\u001b[1;33m\u001b[0m\u001b[0m\n\u001b[0;32m      8\u001b[0m \u001b[0msimilar_movies\u001b[0m\u001b[1;33m[\u001b[0m\u001b[1;36m8357\u001b[0m\u001b[1;33m]\u001b[0m\u001b[1;33m\u001b[0m\u001b[1;33m\u001b[0m\u001b[0m\n\u001b[1;32m----> 9\u001b[1;33m \u001b[0msimilar_movies\u001b[0m\u001b[1;33m[\u001b[0m\u001b[1;33m:\u001b[0m\u001b[1;36m1\u001b[0m\u001b[1;33m]\u001b[0m\u001b[1;33m\u001b[0m\u001b[1;33m\u001b[0m\u001b[0m\n\u001b[0m\u001b[0;32m     10\u001b[0m \u001b[1;36m8357\u001b[0m\u001b[1;33m\u001b[0m\u001b[1;33m\u001b[0m\u001b[0m\n",
      "\u001b[1;31mTypeError\u001b[0m: unhashable type: 'slice'"
     ]
    }
   ],
   "source": [
    "start= datetime.now()\n",
    "similar_movies =dict()\n",
    "for movie in movie_ids:\n",
    "    # get the top similar movies and store them in the dictionary\n",
    "    sim_movies = m_m_Similarity_sparse[movie].toarray().ravel().argsort()[::-1][1:]\n",
    "    similar_movies[movie] = sim_movies[:100]\n",
    "print(datetime.now() - start)\n",
    "similar_movies[8357]\n"
   ]
  },
  {
   "cell_type": "markdown",
   "metadata": {},
   "source": [
    "Finding Most similar movies details into Soe datframe \n",
    "Movie details are in the netflix/movie_titles.csv\n"
   ]
  },
  {
   "cell_type": "code",
   "execution_count": 32,
   "metadata": {},
   "outputs": [
    {
     "name": "stdout",
     "output_type": "stream",
     "text": [
      "Tokenization took: 2.77 ms\n",
      "Type conversion took: 8.00 ms\n",
      "Parser memory cleanup took: 0.00 ms\n"
     ]
    },
    {
     "data": {
      "text/html": [
       "<div>\n",
       "<style scoped>\n",
       "    .dataframe tbody tr th:only-of-type {\n",
       "        vertical-align: middle;\n",
       "    }\n",
       "\n",
       "    .dataframe tbody tr th {\n",
       "        vertical-align: top;\n",
       "    }\n",
       "\n",
       "    .dataframe thead th {\n",
       "        text-align: right;\n",
       "    }\n",
       "</style>\n",
       "<table border=\"1\" class=\"dataframe\">\n",
       "  <thead>\n",
       "    <tr style=\"text-align: right;\">\n",
       "      <th></th>\n",
       "      <th>year_of_release</th>\n",
       "      <th>title</th>\n",
       "    </tr>\n",
       "    <tr>\n",
       "      <th>movie_id</th>\n",
       "      <th></th>\n",
       "      <th></th>\n",
       "    </tr>\n",
       "  </thead>\n",
       "  <tbody>\n",
       "    <tr>\n",
       "      <th>1</th>\n",
       "      <td>2003.0</td>\n",
       "      <td>Dinosaur Planet</td>\n",
       "    </tr>\n",
       "    <tr>\n",
       "      <th>2</th>\n",
       "      <td>2004.0</td>\n",
       "      <td>Isle of Man TT 2004 Review</td>\n",
       "    </tr>\n",
       "    <tr>\n",
       "      <th>3</th>\n",
       "      <td>1997.0</td>\n",
       "      <td>Character</td>\n",
       "    </tr>\n",
       "    <tr>\n",
       "      <th>4</th>\n",
       "      <td>1994.0</td>\n",
       "      <td>Paula Abdul's Get Up &amp; Dance</td>\n",
       "    </tr>\n",
       "    <tr>\n",
       "      <th>5</th>\n",
       "      <td>2004.0</td>\n",
       "      <td>The Rise and Fall of ECW</td>\n",
       "    </tr>\n",
       "  </tbody>\n",
       "</table>\n",
       "</div>"
      ],
      "text/plain": [
       "          year_of_release                         title\n",
       "movie_id                                               \n",
       "1                  2003.0               Dinosaur Planet\n",
       "2                  2004.0    Isle of Man TT 2004 Review\n",
       "3                  1997.0                     Character\n",
       "4                  1994.0  Paula Abdul's Get Up & Dance\n",
       "5                  2004.0      The Rise and Fall of ECW"
      ]
     },
     "execution_count": 32,
     "metadata": {},
     "output_type": "execute_result"
    }
   ],
   "source": [
    "movie_titles = pd.read_csv(\"./Data/movie_titles.csv\", sep=',', header =None, \n",
    "                           names=['movie_id','year_of_release','title'],verbose=True,\n",
    "                          index_col = 'movie_id', encoding=\"ISO-8859-1\")\n",
    "movie_titles.head()"
   ]
  },
  {
   "cell_type": "markdown",
   "metadata": {},
   "source": [
    "Similar Movies for 'The Bridges of Madison County'"
   ]
  },
  {
   "cell_type": "code",
   "execution_count": 35,
   "metadata": {},
   "outputs": [
    {
     "name": "stdout",
     "output_type": "stream",
     "text": [
      "\n",
      " Movie --->  The Bridges of Madison County\n",
      "\n",
      "It has 14638 ratings from users.\n",
      "\n",
      " We have 8898 movies which are similar to this and we will get only top most..\n"
     ]
    }
   ],
   "source": [
    "mv_id = 8357\n",
    "print(\"\\n Movie ---> \", movie_titles.loc[mv_id].values[1])\n",
    "print(\"\\nIt has {} ratings from users.\".format(train_sparse_matrix[:,mv_id].getnnz()))\n",
    "print(\"\\n We have {} movies which are similar to this and we will get only top most..\".format(m_m_Similarity_sparse[:,mv_id].getnnz()) )"
   ]
  },
  {
   "cell_type": "code",
   "execution_count": 36,
   "metadata": {},
   "outputs": [],
   "source": [
    "similarities = m_m_Similarity_sparse[mv_id].toarray().ravel()\n",
    "similar_indices = similarities.argsort()[::-1][1:]\n",
    "similarities[similar_indices]\n",
    "sim_indices  = similarities.argsort()[::-1][1:]\n",
    "# It will sort and reverse the array and ignore its similarity (ie.,1)\n",
    "# and return its indices(movie_ids)"
   ]
  },
  {
   "cell_type": "code",
   "execution_count": 38,
   "metadata": {},
   "outputs": [
    {
     "data": {
      "image/png": "[encoded data removed]",
      "text/plain": [
       "<Figure size 432x288 with 1 Axes>"
      ]
     },
     "metadata": {},
     "output_type": "display_data"
    }
   ],
   "source": [
    "plt.plot(similarities[sim_indices],label='All the ratings')\n",
    "plt.plot(similarities[sim_indices[:100]],label='top 100 similar movies')\n",
    "plt.title(\"Similar movies to {}(movie_id)\".format(mv_id), fontsize=20)\n",
    "plt.xlabel(\"Movies count(Not Movie Ids)\",fontsize=15)\n",
    "plt.ylabel(\"Cosine Similarity\",fontsize=15)\n",
    "plt.legend()\n",
    "plt.show()"
   ]
  },
  {
   "cell_type": "markdown",
   "metadata": {},
   "source": [
    "top 10 similar movies"
   ]
  },
  {
   "cell_type": "code",
   "execution_count": 39,
   "metadata": {},
   "outputs": [
    {
     "data": {
      "text/html": [
       "<div>\n",
       "<style scoped>\n",
       "    .dataframe tbody tr th:only-of-type {\n",
       "        vertical-align: middle;\n",
       "    }\n",
       "\n",
       "    .dataframe tbody tr th {\n",
       "        vertical-align: top;\n",
       "    }\n",
       "\n",
       "    .dataframe thead th {\n",
       "        text-align: right;\n",
       "    }\n",
       "</style>\n",
       "<table border=\"1\" class=\"dataframe\">\n",
       "  <thead>\n",
       "    <tr style=\"text-align: right;\">\n",
       "      <th></th>\n",
       "      <th>year_of_release</th>\n",
       "      <th>title</th>\n",
       "    </tr>\n",
       "    <tr>\n",
       "      <th>movie_id</th>\n",
       "      <th></th>\n",
       "      <th></th>\n",
       "    </tr>\n",
       "  </thead>\n",
       "  <tbody>\n",
       "    <tr>\n",
       "      <th>9110</th>\n",
       "      <td>1998.0</td>\n",
       "      <td>The Horse Whisperer</td>\n",
       "    </tr>\n",
       "    <tr>\n",
       "      <th>5137</th>\n",
       "      <td>1985.0</td>\n",
       "      <td>Out of Africa</td>\n",
       "    </tr>\n",
       "    <tr>\n",
       "      <th>13392</th>\n",
       "      <td>1983.0</td>\n",
       "      <td>Terms of Endearment</td>\n",
       "    </tr>\n",
       "    <tr>\n",
       "      <th>4545</th>\n",
       "      <td>1990.0</td>\n",
       "      <td>Dances With Wolves: Special Edition</td>\n",
       "    </tr>\n",
       "    <tr>\n",
       "      <th>17709</th>\n",
       "      <td>1992.0</td>\n",
       "      <td>A River Runs Through It</td>\n",
       "    </tr>\n",
       "    <tr>\n",
       "      <th>7364</th>\n",
       "      <td>1989.0</td>\n",
       "      <td>Driving Miss Daisy</td>\n",
       "    </tr>\n",
       "    <tr>\n",
       "      <th>15058</th>\n",
       "      <td>1999.0</td>\n",
       "      <td>Notting Hill</td>\n",
       "    </tr>\n",
       "    <tr>\n",
       "      <th>6615</th>\n",
       "      <td>1994.0</td>\n",
       "      <td>Legends of the Fall</td>\n",
       "    </tr>\n",
       "    <tr>\n",
       "      <th>14667</th>\n",
       "      <td>1989.0</td>\n",
       "      <td>Field of Dreams</td>\n",
       "    </tr>\n",
       "    <tr>\n",
       "      <th>13384</th>\n",
       "      <td>1979.0</td>\n",
       "      <td>Kramer vs. Kramer</td>\n",
       "    </tr>\n",
       "  </tbody>\n",
       "</table>\n",
       "</div>"
      ],
      "text/plain": [
       "          year_of_release                                title\n",
       "movie_id                                                      \n",
       "9110               1998.0                  The Horse Whisperer\n",
       "5137               1985.0                        Out of Africa\n",
       "13392              1983.0                  Terms of Endearment\n",
       "4545               1990.0  Dances With Wolves: Special Edition\n",
       "17709              1992.0              A River Runs Through It\n",
       "7364               1989.0                   Driving Miss Daisy\n",
       "15058              1999.0                         Notting Hill\n",
       "6615               1994.0                  Legends of the Fall\n",
       "14667              1989.0                      Field of Dreams\n",
       "13384              1979.0                    Kramer vs. Kramer"
      ]
     },
     "execution_count": 39,
     "metadata": {},
     "output_type": "execute_result"
    }
   ],
   "source": [
    "movie_titles.loc[sim_indices[:10]]"
   ]
  },
  {
   "cell_type": "code",
   "execution_count": null,
   "metadata": {},
   "outputs": [],
   "source": []
  }
 ],
 "metadata": {
  "kernelspec": {
   "display_name": "Python 3",
   "language": "python",
   "name": "python3"
  },
  "language_info": {
   "codemirror_mode": {
    "name": "ipython",
    "version": 3
   },
   "file_extension": ".py",
   "mimetype": "text/x-python",
   "name": "python",
   "nbconvert_exporter": "python",
   "pygments_lexer": "ipython3",
   "version": "3.7.3"
  }
 },
 "nbformat": 4,
 "nbformat_minor": 2
}
